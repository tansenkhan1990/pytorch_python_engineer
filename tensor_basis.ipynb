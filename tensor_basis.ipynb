{
 "metadata": {
  "language_info": {
   "codemirror_mode": {
    "name": "ipython",
    "version": 3
   },
   "file_extension": ".py",
   "mimetype": "text/x-python",
   "name": "python",
   "nbconvert_exporter": "python",
   "pygments_lexer": "ipython3",
   "version": "3.7.6"
  },
  "orig_nbformat": 2,
  "kernelspec": {
   "name": "python376jvsc74a57bd0c20521879a22a07cfe10f0f75cfa4e6dbb5a6f06f5a5feb440ecbcf76ff5b1bf",
   "display_name": "Python 3.7.6 64-bit ('base': conda)"
  },
  "metadata": {
   "interpreter": {
    "hash": "c20521879a22a07cfe10f0f75cfa4e6dbb5a6f06f5a5feb440ecbcf76ff5b1bf"
   }
  }
 },
 "nbformat": 4,
 "nbformat_minor": 2,
 "cells": [
  {
   "cell_type": "code",
   "execution_count": 1,
   "metadata": {},
   "outputs": [
    {
     "output_type": "stream",
     "name": "stdout",
     "text": [
      "tensor([7.1107e+31])\ntensor([1.2244e-37, 3.0813e-41, 1.2282e-37])\ntensor([[1.1341e+36, 4.5786e-41, 1.1341e+36],\n        [4.5786e-41, 4.4842e-44, 0.0000e+00]])\ntensor([[[1.2271e-37, 3.0813e-41, 1.2121e-37],\n         [3.0813e-41, 6.3010e-36, 6.3010e-36]],\n\n        [[6.3010e-36, 6.3010e-36, 1.0571e-28],\n         [2.5809e-32, 2.9058e-17, 1.6131e-33]]])\ntensor([[0.0847, 0.9456, 0.2189],\n        [0.4281, 0.4898, 0.7509],\n        [0.1219, 0.3231, 0.4918],\n        [0.7466, 0.6823, 0.2289],\n        [0.2786, 0.0455, 0.2798]])\n"
     ]
    }
   ],
   "source": [
    "import torch\n",
    "\n",
    "# Everything in pytorch is based on Tensor operations.\n",
    "# A tensor can have different dimensions\n",
    "# so it can be 1d, 2d, or even 3d and higher\n",
    "\n",
    "# scalar, vector, matrix, tensor\n",
    "\n",
    "# torch.empty(size): uninitiallized\n",
    "x = torch.empty(1) # scalar\n",
    "print(x)\n",
    "x = torch.empty(3) # vector, 1D\n",
    "print(x)\n",
    "x = torch.empty(2,3) # matrix, 2D\n",
    "print(' 2 and 3')\n",
    "print(x)\n",
    "x = torch.empty(2,2,3) # tensor, 3 dimensions\n",
    "#x = torch.empty(2,2,2,3) # tensor, 4 dimensions\n",
    "print('223')\n",
    "print(x)\n",
    "\n",
    "# torch.rand(size): random numbers [0, 1]\n",
    "x = torch.rand(5, 3)\n",
    "print(x)"
   ]
  },
  {
   "cell_type": "code",
   "execution_count": null,
   "metadata": {},
   "outputs": [],
   "source": []
  }
 ]
}